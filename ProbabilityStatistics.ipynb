{
  "nbformat": 4,
  "nbformat_minor": 0,
  "metadata": {
    "colab": {
      "provenance": [],
      "include_colab_link": true
    },
    "kernelspec": {
      "name": "python3",
      "display_name": "Python 3"
    },
    "language_info": {
      "name": "python"
    }
  },
  "cells": [
    {
      "cell_type": "markdown",
      "metadata": {
        "id": "view-in-github",
        "colab_type": "text"
      },
      "source": [
        "<a href=\"https://colab.research.google.com/github/samintelguru/python/blob/main/ProbabilityStatistics.ipynb\" target=\"_parent\"><img src=\"https://colab.research.google.com/assets/colab-badge.svg\" alt=\"Open In Colab\"/></a>"
      ]
    },
    {
      "cell_type": "markdown",
      "source": [
        "#Probabilities\n",
        "Probabilty is a branch of math that deals with calculating the likelihood of an event's occurence\n",
        "The probabilty of an event is a value between 0 and 1\n",
        "A probabity of 0 means that the event will not occur. A probablty of 1 means that the event will certainly occur.\n",
        "\n",
        "P(A) = no of favorable outcomes/total no of outcomes"
      ],
      "metadata": {
        "id": "XKCAEuOQOyM9"
      }
    },
    {
      "cell_type": "markdown",
      "source": [
        "Sample space - the set of all possible outcome of an experiment. e.g. when tossing a coin the sample space is:\n",
        "S ={H, T}\n",
        "S ={1, 2, 3, 4, 5, 6}\n",
        "\n",
        "Event - a subset of the sample space. It represents one or more outcomes E.G.  in flipping a coin and getting tails:\n",
        " A ={H}\n",
        "\n",
        "Rolling a die and getting an even number\n",
        "\n",
        "B = {2,4,6}\n",
        "\n",
        "Outcome - single possible result from an experiment e.g  when rolling a die, an outcome could be getting 5"
      ],
      "metadata": {
        "id": "mruvr182P0a5"
      }
    },
    {
      "cell_type": "markdown",
      "source": [
        "Types of Events:\n",
        "\n",
        "Independent events- two events are independent if the occurence does not directly influence/affects the occurence of the other\n",
        "\n",
        "Rolling a die and getting 5, rolling a die and getting 1\n",
        "\n",
        "Dependent events - two events are dependent if the occurence of one directly influences the occurence of the other\n",
        "\n",
        "Waking up late and getting to class late\n",
        "\n",
        "Mutually exclusive events - two events are mutually exclusive if they cannot occur at the same time\n",
        "\n",
        "me being in class and me being in town"
      ],
      "metadata": {
        "id": "5iwfrvx_TTpq"
      }
    },
    {
      "cell_type": "markdown",
      "source": [
        "1. Heavy rains and hiked transportation fare - Dependent\n",
        "2. staying up late and being sleepy during the day - Dependent\n",
        "3. it raining and the sun shining - independent\n",
        "4. Running a marathon and having sore muscles - Dependent\n",
        "5. Wearing grey pants and a blue shirt - independent\n",
        "6. Sneezing and opening your eyes wide - mutually exclusive\n",
        "7. Sleeping and eating at the same time - Mutually exclusive\n",
        "8. Being darkskin and lightskin -independent or mutually exclusive\n",
        "9. Being english fluent and being spanish fluent - independent\n",
        "10. Having 3 siblings and 5 siblings - independent"
      ],
      "metadata": {
        "id": "7SRQnvazVTMB"
      }
    },
    {
      "cell_type": "markdown",
      "source": [
        "Probabilty rules\n",
        "\n",
        "Addition rules - the probability of either event A or B happening is the sum of their probabilities\n",
        "\n",
        "Multiplication rules - the prob of event A AND B happening is the product of their probabilty"
      ],
      "metadata": {
        "id": "vuvUkxHPgBeL"
      }
    },
    {
      "cell_type": "markdown",
      "source": [
        "Create two functions: addition_rule and multiplication_rule and use them to answer the following questions\n",
        "\n",
        "What is the probability of the following:\n",
        "1. Rainy and Sunny\n",
        "2. Rainy and Windy\n",
        "3. Windy and foggy and sunny\n",
        "4. Cloudy or sunny or windy\n",
        "5. Rainy or foggy\n",
        "6. Rainy or sunny\n"
      ],
      "metadata": {
        "id": "43YPfOpxg40f"
      }
    },
    {
      "cell_type": "code",
      "source": [
        "def addition_rule_2(param1, param2):\n",
        "  return param1 + param2\n",
        "\n",
        "def addition_rule_3(param1, param2, param3):\n",
        "  return param1 + param2\n",
        "\n",
        "def multiplication_rule_2(param1, param2):\n",
        "  return param1 * param2\n",
        "\n",
        "def multiplication_rule_3(param1, param2, param3):\n",
        "  return param1 * param2 * param3\n",
        "\n",
        "p_rainy = 0.3\n",
        "p_cloudy = 0.2\n",
        "p_windy = 0.05\n",
        "p_sunny = 0.4\n",
        "p_foggy = 0.05\n",
        "\n",
        "#rainy and sunny\n",
        "rainy_and_sunny = multiplication_rule_2(p_rainy, p_sunny)\n",
        "print(f\"The probabilty of it being rainy and sunny is {rainy_and_sunny}\")\n",
        "\n",
        "#rainy and windy\n",
        "rainy_and_windy = multiplication_rule_2(p_rainy, p_windy)\n",
        "print(f\"The probabilty of it being rainy and windy is {rainy_and_windy}\")\n",
        "\n",
        "#windy and foggy and sunny\n",
        "windy_and_foggy_and_sunny = multiplication_rule_3(p_windy, p_foggy, p_sunny)\n",
        "print(f\"The probabilty of it being windy and foggy and sunny is {windy_and_foggy_and_sunny}\")\n",
        "\n",
        "\n",
        "#cloudy or sunny or windy\n",
        "cloudy_or_sunny_or_windy = addition_rule_3(p_cloudy, p_sunny, p_windy)\n",
        "print(f\"The probabilty of it being cloudy or sunny or windy is {cloudy_or_sunny_or_windy}\")\n",
        "\n",
        "#rainy or foggy\n",
        "rainy_or_foggy = addition_rule_2(p_rainy, p_foggy)\n",
        "print(f\"The probabilty of it being rainy or foggy is {rainy_or_foggy}\")\n",
        "\n",
        "#rainy or sunny\n",
        "rainy_or_sunny = addition_rule_2(p_rainy, p_sunny)\n",
        "print(f\"The probabilty of it being rainy or sunny is {rainy_or_sunny}\")\n",
        "\n",
        "\n"
      ],
      "metadata": {
        "colab": {
          "base_uri": "https://localhost:8080/"
        },
        "id": "x_DE0Eiygm9Q",
        "outputId": "2c39d810-f4fa-4a33-ef2c-d2eaf946848e"
      },
      "execution_count": null,
      "outputs": [
        {
          "output_type": "stream",
          "name": "stdout",
          "text": [
            "The probabilty of it being rainy and sunny is 0.12\n",
            "The probabilty of it being rainy and windy is 0.015\n",
            "The probabilty of it being windy and foggy and sunny is 0.0010000000000000002\n",
            "The probabilty of it being cloudy or sunny or windy is 0.6000000000000001\n",
            "The probabilty of it being rainy or foggy is 0.35\n",
            "The probabilty of it being rainy or sunny is 0.7\n"
          ]
        }
      ]
    },
    {
      "cell_type": "markdown",
      "source": [
        "Coditional probability- probablity of an event occurring given that another event has occurred\n",
        "\n",
        "P(A|B) - read as the probabilty of A given B has occurred\n",
        "\n",
        "Bayes' Theorem - used to calculate the conditional probabilty of an event based on the occurrence of another event. The formulae is:\n",
        "\n",
        "P(A|B) = (P(A|B) * P(A)) / P(B)\n",
        "\n",
        "P(rainy|cloudy) = (P(cloudy|rain) * P(rain))/P(cloudy)"
      ],
      "metadata": {
        "id": "lLgHrLginkDl"
      }
    },
    {
      "cell_type": "markdown",
      "source": [
        "You have been planning picnic with your family. You're trying to decide whether to postpone due to heavy rains. the chance of rain on any day is 15%. The morning of the picnicc its cloudy. The probabilty of it being cloudy is 25% and on days when rains, its cloudy in the morning 80% of the time. Should you postpone the picnic?"
      ],
      "metadata": {
        "id": "kjw41yj_oyEI"
      }
    },
    {
      "cell_type": "code",
      "execution_count": null,
      "metadata": {
        "colab": {
          "base_uri": "https://localhost:8080/"
        },
        "id": "Wz_yoXeDOeCw",
        "outputId": "387f7ae6-92df-4db0-8ca3-3a1cd4ce2685"
      },
      "outputs": [
        {
          "output_type": "stream",
          "name": "stdout",
          "text": [
            "The probabilty of it raining given that it was cloudy is 48.0%\n"
          ]
        }
      ],
      "source": [
        "def bayes_theorem(p_b_a, p_a, p_b):\n",
        "  return (p_b_a * p_a) / p_b\n",
        "p_raining = 0.15\n",
        "p_cloudy = 0.25\n",
        "p_cloudy_rainy = 0.8\n",
        "\n",
        "p_rainy_cloudy= bayes_theorem(p_cloudy_rainy, p_raining, p_cloudy)\n",
        "print(f\"The probabilty of it raining given that it was cloudy is {p_rainy_cloudy * 100}%\")"
      ]
    },
    {
      "cell_type": "markdown",
      "source": [
        "Numerical data- assumes numerical values e.g 1,2,3,4,5\n",
        "Categorical data - assumes different classes eg males, females"
      ],
      "metadata": {
        "id": "n3EWuAJhaddl"
      }
    },
    {
      "cell_type": "markdown",
      "source": [
        "#Measures of Central Tendancy\n",
        "Measures of Central tendancy -  single values that represent the centre of a dataset\n",
        "\n",
        "Mean/arithmetic average - used for continous numerical data. Obtained by summing up all the values and dividing by the number of observations. Mean is quite senstive to outliers\n",
        "\n",
        "median - used for continuos numerical data. We sort the values in ascending order then pick the middle value as the median - Odd numbered list. When we have 2 middle numbers we take the mean of the two as the median. Handles outliers well\n",
        "\n",
        "Mode - most frequent item or element in a list or dataset. Mostly used in categorical/discrete data"
      ],
      "metadata": {
        "id": "f1FyW3ewZvxT"
      }
    },
    {
      "cell_type": "code",
      "source": [
        "import statistics\n",
        "ages = [30, 24, 28, 36, 22, 27]\n",
        "mean_age = statistics.mean(ages)\n",
        "median_age = statistics.median(ages)\n",
        "#mode_age = statistics.mode(ages)\n",
        "print(f\"The mean age is {mean_age}\")\n",
        "print(f\"The median age is {median_age}\")\n",
        "#"
      ],
      "metadata": {
        "colab": {
          "base_uri": "https://localhost:8080/"
        },
        "id": "5UVcuOe8ZusH",
        "outputId": "f35cb28c-76fb-439e-d1a4-a7594451c819"
      },
      "execution_count": null,
      "outputs": [
        {
          "output_type": "stream",
          "name": "stdout",
          "text": [
            "The mean age is 27.833333333333332\n",
            "The median age is 27.5\n"
          ]
        }
      ]
    },
    {
      "cell_type": "code",
      "source": [
        "import statistics\n",
        "sample_data = [2,4,6,8,10,12]\n",
        "cal_median = statistics.median(sample_data)\n",
        "print(cal_median)\n"
      ],
      "metadata": {
        "colab": {
          "base_uri": "https://localhost:8080/"
        },
        "id": "O-d3MQvsgVpg",
        "outputId": "3dd0c568-8499-489e-bf33-e2e750511f1b"
      },
      "execution_count": null,
      "outputs": [
        {
          "output_type": "stream",
          "name": "stdout",
          "text": [
            "7.0\n"
          ]
        }
      ]
    },
    {
      "cell_type": "code",
      "source": [
        "gender = [\"Male\", \"Female\", \"Female\", \"Male\", \"Male\"]\n",
        "\n",
        "gender_mode = statistics.mode(gender)\n",
        "print(gender_mode)\n"
      ],
      "metadata": {
        "colab": {
          "base_uri": "https://localhost:8080/"
        },
        "id": "TJzS8WnGgiKX",
        "outputId": "f7176cfa-f9d4-4055-db00-d3b66c4cf95e"
      },
      "execution_count": null,
      "outputs": [
        {
          "output_type": "stream",
          "name": "stdout",
          "text": [
            "Male\n"
          ]
        }
      ]
    },
    {
      "cell_type": "markdown",
      "source": [
        "Range - the difference between the maximum and minimum values in a dataset"
      ],
      "metadata": {
        "id": "WsypU7ZyhzNd"
      }
    },
    {
      "cell_type": "code",
      "source": [
        "numbers = [10, 22, 15, 40, 31, 29]\n",
        "range_num = max(numbers) - min(numbers)\n",
        "print(range_num)"
      ],
      "metadata": {
        "colab": {
          "base_uri": "https://localhost:8080/"
        },
        "id": "wHQp6_9tiFzw",
        "outputId": "06b6d273-3914-447b-af7a-b09b191cc9ad"
      },
      "execution_count": null,
      "outputs": [
        {
          "output_type": "stream",
          "name": "stdout",
          "text": [
            "30\n"
          ]
        }
      ]
    },
    {
      "cell_type": "markdown",
      "source": [
        "Variance - how far the data points are to the mean. It is the avaearge of the squared difference between each datapoint and the mean\n",
        "\n",
        "Standard Deviation - the square root of the variance. It represents average distance of each datapoint from the mean."
      ],
      "metadata": {
        "id": "8Z0Pl2UZinGp"
      }
    },
    {
      "cell_type": "code",
      "source": [
        "import numpy as np\n",
        "numbers = [12, 14, 16, 18, 20]\n",
        "num_var = np.var(numbers)\n",
        "#num_std = np.std(numbers)\n",
        "print(num_var)\n",
        "#print(num_std)\n",
        "#mean\n",
        "num_mean = statistics.mean(numbers)\n",
        "# difference, square the differences, sum then divide by either N(Population) or N-1(Sample variance)\n",
        "#12 - 16 = -4 ** 2 =16\n",
        "#14 - 16 = -2 ** 2 = 4\n",
        "#16 - 16 = 0 ** 2 = 0\n",
        "#18 - 16 =2 ** 2 = 4\n",
        "#20 - 16 =4 ** 2 = 16\n",
        "\n",
        "# 16 + 4 + 0 + 4 + 16 = 40\n",
        "# Population: 40/5 = 8\n",
        "# Sample:40/4 =10"
      ],
      "metadata": {
        "colab": {
          "base_uri": "https://localhost:8080/"
        },
        "id": "3JUcjWUSkCS7",
        "outputId": "342f88ef-0066-4060-9b62-adb96371a7d2"
      },
      "execution_count": null,
      "outputs": [
        {
          "output_type": "stream",
          "name": "stdout",
          "text": [
            "8.0\n"
          ]
        }
      ]
    },
    {
      "cell_type": "markdown",
      "source": [
        "Create python functions to do the following:\n",
        "1. Mean - takes single parameter (list) then calculates the mean and returns the result\n",
        "2. Calculates the median -  takes a single parameter(list)\n",
        "- if the length of the list is odd, return the middle value\n",
        "- if the length of the list is even, get the mean of the two middle values\n",
        "\n",
        "Return Median\n",
        "\n",
        "3. Calculate variance - take a single parameter (list)\n",
        "- Calculate the mean\n",
        "- Get the differences\n",
        "- Square the differences\n",
        "- Sum of the differences\n",
        "- Sum of differences /N or N-1"
      ],
      "metadata": {
        "id": "mfF5buwln7O0"
      }
    },
    {
      "cell_type": "code",
      "source": [
        "def mean (numbers):\n",
        "  return sum(numbers) / len(numbers)\n",
        "\n",
        "def median (numbers):\n",
        "  numbers.sort()\n",
        "  if len(numbers) % 2 == 1:\n",
        "    return numbers[len(numbers) // 2]\n",
        "  else:\n",
        "    return (numbers[len(numbers) // 2 - 1] + numbers[len(numbers) // 2]) / 2\n",
        "\n",
        "def variance (numbers):\n",
        "  mean_num = mean(numbers)\n",
        "  differences = [(x - mean_num) ** 2 for x in numbers]\n",
        "  return sum(differences) / len(numbers)\n",
        "\n",
        "\n",
        "numbers = [22, 32, 12, 5, 18]\n",
        "print(mean(numbers))\n",
        "print(median(numbers))\n",
        "print(variance(numbers))\n"
      ],
      "metadata": {
        "colab": {
          "base_uri": "https://localhost:8080/"
        },
        "id": "v4Q_QSXop20r",
        "outputId": "291fbd8b-4032-45ef-b494-bd002aa822ea"
      },
      "execution_count": null,
      "outputs": [
        {
          "output_type": "stream",
          "name": "stdout",
          "text": [
            "17.8\n",
            "18\n",
            "83.36\n"
          ]
        }
      ]
    },
    {
      "cell_type": "code",
      "source": [
        "import numpy as np\n",
        "\n",
        "numbers = [22, 32, 12, 5, 18]\n",
        "\n",
        "print(np.mean(numbers))\n",
        "print(np.median(numbers))\n",
        "print(np.var(numbers))\n"
      ],
      "metadata": {
        "colab": {
          "base_uri": "https://localhost:8080/"
        },
        "id": "S6nLEw7fluNA",
        "outputId": "573d7674-7ac0-4d02-bd17-9605046f345b"
      },
      "execution_count": null,
      "outputs": [
        {
          "output_type": "stream",
          "name": "stdout",
          "text": [
            "17.8\n",
            "18.0\n",
            "83.36\n"
          ]
        }
      ]
    },
    {
      "cell_type": "markdown",
      "source": [
        "3. Calculate variance - take a single parameter (list)\n",
        "- Calculate the mean\n",
        "- Get the differences\n",
        "- Square the differences\n",
        "- Sum of the differences\n",
        "- Sum of differences /N or N-1"
      ],
      "metadata": {
        "id": "ItyropCMrk6M"
      }
    },
    {
      "cell_type": "code",
      "source": [
        "def var_std_dev(numbers):\n",
        "  sum_numbers = sum(numbers)\n",
        "  len_numbers = len(numbers)\n",
        "  mean = sum_numbers / len_numbers\n",
        "  sum_sq_diff = 0\n",
        "  for number in numbers:\n",
        "    diff = number - mean\n",
        "    square_diff = diff ** 2\n",
        "    sum_sq_diff += square_diff\n",
        "  var = sum_sq_diff / len_numbers\n",
        "  std_dev = var ** 0.5\n",
        "  return var , std_dev\n",
        "\n",
        "\n",
        "numbers = [22, 32, 12, 5, 18]\n",
        "variance, std_deviation = var_std_dev(numbers)\n",
        "\n",
        "print(f\"The variance is {variance}\")\n",
        "print(f\"The standard deviation is {std_deviation}\")\n"
      ],
      "metadata": {
        "colab": {
          "base_uri": "https://localhost:8080/"
        },
        "id": "IDbUBobXndbw",
        "outputId": "ab10990f-b1de-4214-bf64-5ce0836c870c"
      },
      "execution_count": null,
      "outputs": [
        {
          "output_type": "stream",
          "name": "stdout",
          "text": [
            "The variance is 83.36\n",
            "The standard deviation is 9.130169768410662\n"
          ]
        }
      ]
    },
    {
      "cell_type": "markdown",
      "source": [
        "# Percentiles and Quartiles\n",
        "\n",
        "Percentiles - indicate a value below which a certain percentage of the observations or data points fall eg. the 25th percentile represents a value below which 25% of the data lies and above which 75% of the data lies.\n",
        "\n",
        "Quartiles - divides data into four equal types\n",
        "\n",
        "- First Quartile/ Q1 - 25% of the data falls below this value\n",
        "- Second Quartile/ Q2 / Median - 50%/half of the data falls below this value\n",
        "- Third Quarrtile/ Q3 / 75th percentile - value below which 75% of the data lies\n",
        "-\n"
      ],
      "metadata": {
        "id": "mu6SnOQars6W"
      }
    },
    {
      "cell_type": "code",
      "source": [
        "import numpy as np\n",
        "\n",
        "sample_numbs = [1, 2, 3, 4, 5, 6, 7, 8, 9, 10]\n",
        "q1 = np.percentile(sample_numbs, 25)\n",
        "q2 = np.percentile(sample_numbs, 50)\n",
        "q3 = np.percentile(sample_numbs, 75)\n",
        "print(q1)\n",
        "print(q2)\n",
        "print(q3)\n"
      ],
      "metadata": {
        "colab": {
          "base_uri": "https://localhost:8080/"
        },
        "id": "QenxDN1xtNh2",
        "outputId": "f2ddaa75-60a0-4899-af21-d09fee307f98"
      },
      "execution_count": null,
      "outputs": [
        {
          "output_type": "stream",
          "name": "stdout",
          "text": [
            "3.25\n",
            "5.5\n",
            "7.75\n"
          ]
        }
      ]
    },
    {
      "cell_type": "markdown",
      "source": [
        "# Outliers\n",
        "Outliers are extremely low values or extremely high values in a dataset\n",
        "\n",
        "Visualized using a box and whisker plot\n",
        "\n",
        "InterQuartileRange - IQR = Q3 - Q1\n",
        "\n",
        "Upper bound - UB = Q3 + (1.5 * IQR)\n",
        "\n",
        "Lower bound - LB = Q1 - (1.5 * IQR)\n",
        "\n",
        "Anything that falls above the upper bound or below the lower bound is regarded as an outlier."
      ],
      "metadata": {
        "id": "dESB2rqOt0G1"
      }
    },
    {
      "cell_type": "markdown",
      "source": [
        " Create a function that takes in a list as a parameter. It shoud check whether the list has outliers. If so should return a list of outliers then attempt to replace them with the median. Return with the resultant list."
      ],
      "metadata": {
        "id": "bTC-8kN9w_Dn"
      }
    },
    {
      "cell_type": "code",
      "source": [
        "import numpy as np\n",
        "\n",
        "def check_outliers(samp_numbers):\n",
        "  q1 = np.percentile(samp_numbers, 25)\n",
        "  q3 = np.percentile(samp_numbers, 75)\n",
        "  print(f\"Q1 is {q1}, Q3 is {q3}\")\n",
        "\n",
        "  iqr = q3 - q1\n",
        "  upper_bound = q3 + (1.5 * iqr)\n",
        "  lower_bound = q1 - (1.5 * iqr)\n",
        "  median_val = np.median(samp_numbers)\n",
        "\n",
        "  outliers = []\n",
        "  for i in range(len(samp_numbers)):\n",
        "    if samp_numbers[i] > upper_bound or samp_numbers[i] < lower_bound:\n",
        "      outliers.append(samp_numbers[i])\n",
        "      samp_numbers[i] = float(median_val)         # Here I replace outlier with median\n",
        "\n",
        "  if outliers:\n",
        "    print(f\"Outliers found: {outliers}\")\n",
        "  else:\n",
        "    print(\"No outliers found.\")\n",
        "\n",
        "  return samp_numbers\n",
        "\n",
        "samp_numbers = [23, 62, 53000, 74, 15, 76, 87, -50000, 19, 10]\n",
        "updated_numbers = check_outliers(samp_numbers)\n",
        "print(\"List after replacing outliers:\", updated_numbers)"
      ],
      "metadata": {
        "colab": {
          "base_uri": "https://localhost:8080/"
        },
        "id": "4EHQBBqov3Mn",
        "outputId": "46092d0c-47e1-45f2-bc87-a6d8cd577650"
      },
      "execution_count": null,
      "outputs": [
        {
          "output_type": "stream",
          "name": "stdout",
          "text": [
            "Q1 is 16.0, Q3 is 75.5\n",
            "Outliers found: [53000, -50000]\n",
            "List after replacing outliers: [23, 62, 42.5, 74, 15, 76, 87, 42.5, 19, 10]\n"
          ]
        }
      ]
    },
    {
      "cell_type": "markdown",
      "source": [
        "method 2"
      ],
      "metadata": {
        "id": "S9jyidMl5oWi"
      }
    },
    {
      "cell_type": "code",
      "source": [
        "import numpy as np\n",
        "\n",
        "def outlier_detections(numbers):\n",
        "  q1 = np.percentile(numbers, 25)\n",
        "  q3 = np.percentile(numbers, 75)\n",
        "\n",
        "  iqr = q3 - q1\n",
        "\n",
        "  upper_bound = q3 + (1.5 * iqr)\n",
        "  lower_bound = q1 - (1.5 * iqr)\n",
        "  median_val = np.median(numbers)\n",
        "  outliers = []\n",
        "\n",
        "  print(f\"Upper bound is {upper_bound}\")\n",
        "  print(f\"Lower bound is {lower_bound}\")\n",
        "  print(f\"Median is {median_val}\")\n",
        "\n",
        "  for index, number in enumerate(numbers):\n",
        "    if number  > upper_bound or number < lower_bound:\n",
        "      outliers.append(number)\n",
        "      numbers[index] = int(median_val)\n",
        "  print(f\"Outliers are {outliers}\")\n",
        "  return (numbers)\n",
        "\n",
        "numbers = [-20, 2, 4, 5, 8, 9, 30]\n",
        "\n",
        "outlier_detections(numbers)"
      ],
      "metadata": {
        "colab": {
          "base_uri": "https://localhost:8080/"
        },
        "id": "CY0SLkdy5rKt",
        "outputId": "54783d06-9cb5-47f1-bd93-6e9e0c0af3d1"
      },
      "execution_count": null,
      "outputs": [
        {
          "output_type": "stream",
          "name": "stdout",
          "text": [
            "Upper bound is 16.75\n",
            "Lower bound is -5.25\n",
            "Median is 5.0\n",
            "Outliers are [-20, 30]\n"
          ]
        },
        {
          "output_type": "execute_result",
          "data": {
            "text/plain": [
              "[5, 2, 4, 5, 8, 9, 5]"
            ]
          },
          "metadata": {},
          "execution_count": 1
        }
      ]
    },
    {
      "cell_type": "markdown",
      "source": [
        "# Probability distribution\n",
        "This is a function that defines how the probabilities of different outcomes are distributed.\n",
        "\n",
        "- Uniform distribution - every outcome in a certain range is equally likely. eg. Rolling a dice, picking a card from a deck\n",
        "- Binomial distribution - describes the number of successes in a fixed number of trials, where each trial has TWO possible outcomes eg. Success or failure, True or False, Yes or No\n",
        "-Poisson distribution - describes the probability of a given number of events happening in a fixed time interval, assuming that they happen at a constant rate. eg. No of people entering a lift in 10 mins\n",
        "- Normal distribution - bell curve. desribes how data is clustered around the mean. As we move away from the mean it gets dispersed eg. age of students"
      ],
      "metadata": {
        "id": "uxW9FyrHA8i8"
      }
    },
    {
      "cell_type": "markdown",
      "source": [
        "# Hypothesis Testing\n",
        "It is a statistical method that helps us make decisions or inferences about population parameters based on sample data.\n",
        "\n",
        "- A hypothesis is a statement, opinion, remark or a thought that has not yet been proven eg. The average age of students in eMobilis is 19\n",
        "eg. The best team in England is Chelsea.\n",
        "\n",
        "- Null hypothesis - is a statement that has no effect or difference.\n",
        "eg. Kibaki was the third president of Kenya - True\n",
        "\n",
        "- Alternative hypothesis - contradicts the null hypothesis\n",
        "eg. Kibaki was not the third president of Kenya. - False\n",
        "\n",
        "\n",
        "\n",
        "Type I Error (False Positive) - this occurs when you reject the null hypothesis when it was actually true\n",
        " - Null hypothesis - steroids are bad for athletes' health. - False\n",
        "\n",
        " - Alternative hypothesis - steroids are okay for athletes' health. - True\n",
        "\n",
        "Type II Error (False Negative) - this occurs when you fail to reject the null hypothesis when the alternative hypothesis is true\n",
        "- Null hypothesis - women belong to the kitchen\n",
        "- Alternative hypothesis - women do not belong to the kitchen"
      ],
      "metadata": {
        "id": "zoQ3F_fBqHdX"
      }
    },
    {
      "cell_type": "markdown",
      "source": [
        "Write down three examples of Type I errors and type II errors scenearios stating the null hypothesis and alternative hypothesis for each\n",
        "\n",
        "Type I Error\n",
        "- Null hypothesis- covid was not engineered in a lab\n",
        "- Alternative hypothesis- covid was engineered in a lab\n",
        "\n",
        "Type II error\n",
        "- Null hypothesis - Traore is not a dictator\n",
        "-Alternative hypothesis - Traore is a dictator"
      ],
      "metadata": {
        "id": "y2h95vJk4oDv"
      }
    },
    {
      "cell_type": "markdown",
      "source": [
        "# Correlation and Covariance\n",
        "They are used to define the relationship between two different variables. They measure the strength and direction of a relationship\n",
        "\n",
        "- Covariance - this measures how two differenet variables vary with each other. If both of the variables increase or decrease simultaneously, we say that the covariance is positive.\n",
        "If one variable tends to increase while the other decreases, we say the covariance is negative.\n",
        "\n",
        "- Correlation - is a standard measure of covariance. It is obtained by getting the covariance and dividing it by the product of the standard deviation of the two variables.\n"
      ],
      "metadata": {
        "id": "uvWZ2f2_BlbM"
      }
    },
    {
      "cell_type": "code",
      "source": [
        "import numpy as np\n",
        "\n",
        "size_land = [0.8, 1.5, 1.9, 2.2, 3.8]\n",
        "amount = [4, 5.9, 6.2, 7, 10]\n",
        "\n",
        "print(np.cov(size_land, amount)[0][1])"
      ],
      "metadata": {
        "colab": {
          "base_uri": "https://localhost:8080/"
        },
        "id": "yySZyWVGFQ2k",
        "outputId": "40062cab-da53-41ce-82aa-94c9097aa779"
      },
      "execution_count": null,
      "outputs": [
        {
          "output_type": "stream",
          "name": "stdout",
          "text": [
            "2.4265\n"
          ]
        }
      ]
    },
    {
      "cell_type": "markdown",
      "source": [
        "Create a python function that calculates the correlation between two parameters we pass into it. steps are as below\n",
        "\n",
        "- Getting covariance\n",
        "- Getting the standard deviation of the two varibles\n",
        "- Product of the std deviations\n",
        "- Covariance/ std deviation"
      ],
      "metadata": {
        "id": "zXIhHjf_Huef"
      }
    },
    {
      "cell_type": "code",
      "source": [
        "import numpy as np\n",
        "\n",
        "def correlation(var1, var2):\n",
        "  cov = np.cov(var1, var2)[0][1]\n",
        "  print(f\"Covariance is\", np.cov(var1, var2)[0][1])\n",
        "  std_var1 = np.std(var1)\n",
        "  std_var2 = np.std(var2)\n",
        "  print(f\"Standard deviation of var1 is {std_var1}\")\n",
        "  print(f\"Standard deviation of var2 is {std_var2}\")\n",
        "  corr = cov / (std_var1 * std_var2)\n",
        "  return corr\n",
        "\n",
        "var1 = [0.8, 1.5, 1.9, 2.2, 3.8]\n",
        "var2 = [4, 5.9, 6.2, 890, 10]\n",
        "\n",
        "correlation_value = correlation(var1, var2)\n",
        "print(f\"The correlation is: {correlation_value}\")"
      ],
      "metadata": {
        "colab": {
          "base_uri": "https://localhost:8080/"
        },
        "id": "P8dnZk4AIPJ7",
        "outputId": "60a75608-3a5c-4064-8596-a1f27145ed93"
      },
      "execution_count": null,
      "outputs": [
        {
          "output_type": "stream",
          "name": "stdout",
          "text": [
            "Covariance is 37.746500000000026\n",
            "Standard deviation of var1 is 0.9971960689854328\n",
            "Standard deviation of var2 is 353.39536159944146\n",
            "The correlation is: 0.10711129882761224\n"
          ]
        }
      ]
    },
    {
      "cell_type": "code",
      "source": [
        "import numpy as np\n",
        "\n",
        "def get_correlation(var1,var2):\n",
        "  covariance= (np.cov(var1, var2)[0][1])\n",
        "  std_var1 = np.std(var1)\n",
        "  std_var2 = np.std(var2)\n",
        "  correlation = covariance / (std_var1 * std_var2)\n",
        "  return correlation\n",
        "\n",
        "var1 = [0.8, 1.5, 1.9, 2.2, 3.8]\n",
        "var2 = [4, 5.9, 6.2, 890, 10]\n",
        "correlation = get_correlation(var1, var2)\n",
        "print(f\"The correlation of the two is {correlation}\")"
      ],
      "metadata": {
        "colab": {
          "base_uri": "https://localhost:8080/"
        },
        "id": "DkQTxsYqLMT2",
        "outputId": "3976b827-db20-4701-bc6c-7e190b01c089"
      },
      "execution_count": null,
      "outputs": [
        {
          "output_type": "stream",
          "name": "stdout",
          "text": [
            "The correlation of the two is 0.10711129882761224\n"
          ]
        }
      ]
    },
    {
      "cell_type": "markdown",
      "source": [
        "#Linear Algebra\n",
        "It is a branch of math that deals with vectors, matrices and linera transformation. It plays a crucial role in data science, particularly machine learning(model building and commpter vision)\n",
        "- Vector - is an ordered collection of numbers which can represent a point in space or a set of values.It is denoted by abold letter or a lowercase letter with an arrow at the top.\n",
        "\n",
        "- Vector addition - vectors of the same dimensions are added component wise"
      ],
      "metadata": {
        "id": "7oSKTfHIVOeG"
      }
    },
    {
      "cell_type": "code",
      "source": [
        "import numpy as np\n",
        "\n",
        "vector1 = np.array ([1, 2, 3])\n",
        "scalar = 5\n",
        "vector_product = vector1 * scalar\n",
        "print(vector_product)"
      ],
      "metadata": {
        "colab": {
          "base_uri": "https://localhost:8080/"
        },
        "id": "5cqNAbcZVUSR",
        "outputId": "cee669f3-49a0-4cae-dab5-707f2cd06c78"
      },
      "execution_count": null,
      "outputs": [
        {
          "output_type": "stream",
          "name": "stdout",
          "text": [
            "[ 5 10 15]\n"
          ]
        }
      ]
    },
    {
      "cell_type": "markdown",
      "source": [
        "Scaler Multiplication-- Up Top"
      ],
      "metadata": {
        "id": "0p8_rgoaYKXe"
      }
    },
    {
      "cell_type": "markdown",
      "source": [
        "Multiplication - the product of the two vectors is obtained by component wise mulitiplication"
      ],
      "metadata": {
        "id": "qcx485MiYVrS"
      }
    },
    {
      "cell_type": "code",
      "source": [
        "vector1 = np.array([3, 4, 5])\n",
        "vector2 = np.array([6, 7, 8])\n",
        "product = vector1 * vector2\n",
        "print(product)"
      ],
      "metadata": {
        "colab": {
          "base_uri": "https://localhost:8080/"
        },
        "id": "rIfgEprRYtCt",
        "outputId": "b017dad7-97a3-4b53-fb67-b12e08f89b5a"
      },
      "execution_count": null,
      "outputs": [
        {
          "output_type": "stream",
          "name": "stdout",
          "text": [
            "[18 28 40]\n"
          ]
        }
      ]
    },
    {
      "cell_type": "markdown",
      "source": [
        "#Matrices\n",
        "Is a rectangular array of numbers arranged in rows and columns.\n",
        "A matrix is denoted by a capital letter such as A, B, C. The elements in a matrix are enclosed in square brackets or parethensis. The dimensions are denoted by the numbers or rows and columns."
      ],
      "metadata": {
        "id": "Kr9dOo-6ZIX6"
      }
    },
    {
      "cell_type": "code",
      "source": [
        "matrix_A = np.array([[1, 2, 3],\n",
        "                    [4, 5, 6],\n",
        "                    [7, 8, 9]])\n",
        "print(matrix_A)"
      ],
      "metadata": {
        "colab": {
          "base_uri": "https://localhost:8080/"
        },
        "id": "1XpzFgYjZUtJ",
        "outputId": "50c210c7-83d3-45a3-b690-c52112dff742"
      },
      "execution_count": null,
      "outputs": [
        {
          "output_type": "stream",
          "name": "stdout",
          "text": [
            "[[1 2 3]\n",
            " [4 5 6]\n",
            " [7 8 9]]\n"
          ]
        }
      ]
    },
    {
      "cell_type": "markdown",
      "source": [
        "Addition - matrices of the same dimensions are added component wise"
      ],
      "metadata": {
        "id": "AXH0AojtdMcl"
      }
    },
    {
      "cell_type": "code",
      "source": [
        "matrix_B = np.array([[1, 2, 3],\n",
        "                    [4, 5, 6],\n",
        "                    [7, 8, 9]])\n",
        "\n",
        "matrix_C = np.array([[12, 11, 10],\n",
        "                     [9, 8, 7],\n",
        "                     [6, 5, 4]])\n",
        "print(matrix_B + matrix_C)"
      ],
      "metadata": {
        "colab": {
          "base_uri": "https://localhost:8080/"
        },
        "id": "ygrF8ow2dtFF",
        "outputId": "001ec9e3-f4d6-4122-9b10-0b45e299615e"
      },
      "execution_count": null,
      "outputs": [
        {
          "output_type": "stream",
          "name": "stdout",
          "text": [
            "[[13 13 13]\n",
            " [13 13 13]\n",
            " [13 13 13]]\n"
          ]
        }
      ]
    },
    {
      "cell_type": "code",
      "source": [
        "print(matrix_B[0][2])"
      ],
      "metadata": {
        "colab": {
          "base_uri": "https://localhost:8080/"
        },
        "id": "DZEjPSeeg_bi",
        "outputId": "3bb45eaf-15ce-4499-ed22-4d97195965e9"
      },
      "execution_count": null,
      "outputs": [
        {
          "output_type": "stream",
          "name": "stdout",
          "text": [
            "3\n"
          ]
        }
      ]
    },
    {
      "cell_type": "markdown",
      "source": [
        "Create a pyhton function that does the following\n",
        "1. Takes two parameters\n",
        "2. Carries out matrix multiplication and return the results\n"
      ],
      "metadata": {
        "id": "lUX9Be2chKGH"
      }
    },
    {
      "cell_type": "code",
      "source": [
        "test_matrix_A = np.array([[13, 4],\n",
        "                          [8, 8]\n",
        "                          ])\n",
        "test_matrix_B = np.array([[1, 19],\n",
        "                          [8, 2]])\n",
        "\n",
        "def multiplication (test_matrix_A, test_matrix_B):\n",
        "  result = test_matrix_A * test_matrix_B\n",
        "  return result\n",
        "\n",
        "multiplication(test_matrix_A, test_matrix_B)"
      ],
      "metadata": {
        "colab": {
          "base_uri": "https://localhost:8080/"
        },
        "id": "iIlvtA9FhirU",
        "outputId": "1d88c56c-93ed-4d98-98d5-7082d6b9788b"
      },
      "execution_count": null,
      "outputs": [
        {
          "output_type": "execute_result",
          "data": {
            "text/plain": [
              "array([[13, 76],\n",
              "       [64, 16]])"
            ]
          },
          "metadata": {},
          "execution_count": 11
        }
      ]
    },
    {
      "cell_type": "markdown",
      "source": [
        "A=[a,b]   B=[e, f]\n",
        "  [c,,d]    [g ,h]\n",
        "\n",
        "AB =[ ae+bg af+bh]\n",
        "    [ ce+dg  cf+dh]\n"
      ],
      "metadata": {
        "id": "NswWG1BirW6B"
      }
    },
    {
      "cell_type": "markdown",
      "source": [
        "multiplication of a 3*3 matrix"
      ],
      "metadata": {
        "id": "hFjBV7MWtTuK"
      }
    },
    {
      "cell_type": "markdown",
      "source": [
        "#Identity Matrix\n",
        "This is a square matrix where all values in the main diagonals are 1 and all the elements are 0"
      ],
      "metadata": {
        "id": "HkWhXv3NtZgv"
      }
    },
    {
      "cell_type": "code",
      "source": [
        "print(np.eye(3))"
      ],
      "metadata": {
        "colab": {
          "base_uri": "https://localhost:8080/"
        },
        "id": "fSQ8lW4gtvNY",
        "outputId": "4a9617b4-ab42-4f90-ea1b-18c688f90b4f"
      },
      "execution_count": null,
      "outputs": [
        {
          "output_type": "stream",
          "name": "stdout",
          "text": [
            "[[1. 0. 0.]\n",
            " [0. 1. 0.]\n",
            " [0. 0. 1.]]\n"
          ]
        }
      ]
    },
    {
      "cell_type": "markdown",
      "source": [
        "Write apython  script that checks whether a matrix passed as a parameter is an identity matrix\n",
        "::"
      ],
      "metadata": {
        "id": "_4oBuZhrugxA"
      }
    },
    {
      "cell_type": "code",
      "source": [
        "import numpy as np\n",
        "\n",
        "test_matrix_B = np.array([\n",
        "    [1., 19., 2],\n",
        "    [8., 2., 1],\n",
        "])\n",
        "print(test_matrix_B.shape[1])"
      ],
      "metadata": {
        "colab": {
          "base_uri": "https://localhost:8080/"
        },
        "id": "V6D8U-oYu_dO",
        "outputId": "8648f2c5-cedb-43c6-ddbe-595f69333269"
      },
      "execution_count": null,
      "outputs": [
        {
          "output_type": "stream",
          "name": "stdout",
          "text": [
            "3\n"
          ]
        }
      ]
    },
    {
      "cell_type": "markdown",
      "source": [
        "Write a python  script that checks whether a matrix passed as a parameter is an identity matrix"
      ],
      "metadata": {
        "id": "PSsnmiIJzN3T"
      }
    },
    {
      "cell_type": "code",
      "source": [
        "def is_identify(matrix_A):\n",
        "  rows = matrix_A.shape[0]\n",
        "  columns = matrix_A.shape[1]\n",
        "\n",
        "if rows == columns:\n",
        "  identity_matrix = np.eye(rows)\n",
        "  if np.array_equal(matrix_A, identity_matrix):\n",
        "    print(f\"{matrix_A} is an identity matrix\")\n",
        "return True\n",
        "  pass\n",
        "  else:\n",
        "  print(f\"{matrix_A} is NOT a square matrix, hence not an identity matrix\")\n",
        "  return False"
      ],
      "metadata": {
        "id": "-0Ai2y55zUK1"
      },
      "execution_count": null,
      "outputs": []
    }
  ]
}